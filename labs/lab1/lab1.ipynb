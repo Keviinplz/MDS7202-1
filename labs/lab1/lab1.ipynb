{
 "cells": [
  {
   "cell_type": "markdown",
   "id": "cd7b1b55",
   "metadata": {
    "id": "cd7b1b55"
   },
   "source": [
    "<h1><center>Laboratorio 1: Primeros pasos 👣</center></h1>\n",
    "\n",
    "<center><strong>MDS7202: Laboratorio de Programación Científica para Ciencia de Datos - Primavera 2021</strong></center>"
   ]
  },
  {
   "cell_type": "markdown",
   "id": "Vp_vOHK7V97e",
   "metadata": {
    "id": "Vp_vOHK7V97e"
   },
   "source": [
    "### Cuerpo Docente:\n",
    "\n",
    "- Profesor: Pablo Badilla\n",
    "- Auxiliar: Ignacio Meza D.\n",
    "- Ayudante: Constanza Peña S."
   ]
  },
  {
   "cell_type": "markdown",
   "id": "4N_5AYgyWKyA",
   "metadata": {
    "id": "4N_5AYgyWKyA"
   },
   "source": [
    "### Equipo: SUPER IMPORTANTE - notebooks sin nombre no serán revisados\n",
    "\n",
    "- Nombre de alumno 1: Kevin Pinochet Hernández\n"
   ]
  },
  {
   "cell_type": "markdown",
   "id": "1rjlaJDEWxd9",
   "metadata": {
    "id": "1rjlaJDEWxd9"
   },
   "source": [
    "### **Link de repositorio de GitHub:** [Repositorio de Github](https://github.com/Keviinplz/MDS7202-1)"
   ]
  },
  {
   "cell_type": "markdown",
   "id": "9el9ERaKWW3i",
   "metadata": {
    "id": "9el9ERaKWW3i"
   },
   "source": [
    "## Reglas:\n",
    "\n",
    "- Fecha de entrega: 1 semana desde la publicación, 3 días de atraso con 1 punto de descuento c/u. Pueden utilizar días bonus sin descuento.\n",
    "- **Grupos de 2 personas**.\n",
    "- **Ausentes** deberán realizar la actividad solos. \n",
    "- Cualquier duda fuera del horario de clases al foro. Mensajes al equipo docente serán respondidos por este medio.\n",
    "- Prohibidas las copias. \n",
    "- Pueden usar cualquer material del curso que estimen conveniente.\n"
   ]
  },
  {
   "cell_type": "markdown",
   "id": "4708b9b7",
   "metadata": {
    "id": "4708b9b7"
   },
   "source": [
    "\n",
    "## Objetivos del lab: \n",
    "\n",
    "\n",
    "- Variables, Operadores y Expresiones.\n",
    "- Estructuras de Control (if/else).\n",
    "- Iteraciones.\n",
    "- Listas y Diccionarios.\n",
    "- Programación Funcional (Map, Filter y Reduce).\n",
    "- Programación Orientada a Objetos (Encapsulamiento, Polimorfismo y Herencia)"
   ]
  },
  {
   "cell_type": "markdown",
   "id": "d58b089c",
   "metadata": {
    "id": "d58b089c"
   },
   "source": [
    "## Parte 1: 🍋 Frutas 🍓\n",
    "\n",
    "En esta primera parte se trabajará lo escencial visto hasta el momento más un poco de programación funcional a través de frutas:\n",
    "\n",
    "<div align='center'>\n",
    "<img src='https://upload.wikimedia.org/wikipedia/commons/a/a2/Berries_in_Berlin.jpg' width=600/>\n",
    "</div>"
   ]
  },
  {
   "cell_type": "markdown",
   "id": "5fdf6b19",
   "metadata": {
    "id": "5fdf6b19"
   },
   "source": [
    "Defina las siguientes frutas como diccionarios a partir de sus características (nombre, color, tipo y si posee o no pepas):\n",
    "\n",
    "| Nombre    | Tipo     | Color    | Pepas |\n",
    "|-----------|----------|----------|-------|\n",
    "| limon     | cítrica  | amarillo | True  |\n",
    "| naranja   | cítrica  | naranjo  | True  |\n",
    "| plátano   | tropical | amarillo | False |\n",
    "| piña      | tropical | amarillo | False |\n",
    "| frutilla  | bosque   | rojo     | True  |\n",
    "| frambuesa | bosque   | rojo     | True  |"
   ]
  },
  {
   "cell_type": "markdown",
   "id": "33aed47b",
   "metadata": {
    "id": "33aed47b"
   },
   "source": [
    "### Estructurar Datos [0.5 puntos]\n",
    "\n",
    "Agregue Piña, Frutilla y Frambuesa como diccionarios (siga los ejemplos de las frutas dadas) y luego cree un arreglo que contenga estas frutas.\n"
   ]
  },
  {
   "cell_type": "code",
   "execution_count": 1,
   "id": "26d23e26",
   "metadata": {
    "id": "26d23e26"
   },
   "outputs": [],
   "source": [
    "limon = {\n",
    "    \"nombre\": \"limón\", \n",
    "    \"tipo\": \"cítrica\", \n",
    "    \"color\": \"amarillo\", \n",
    "    \"pepas\": True\n",
    "}\n",
    "\n",
    "naranja = {\n",
    "    \"nombre\": \"naranja\", \n",
    "    \"tipo\": \"cítrica\", \n",
    "    \"color\": \"naranjo\", \n",
    "    \"pepas\": True\n",
    "}\n",
    "\n",
    "platano = {\n",
    "    \"nombre\": \"plátano\", \n",
    "    \"tipo\": \"tropical\", \n",
    "    \"color\": \"amarillo\", \n",
    "    \"pepas\": False\n",
    "}\n",
    "\n",
    "pina = {\n",
    "    \"nombre\": \"piña\", \n",
    "    \"tipo\": \"tropical\", \n",
    "    \"color\": \"amarillo\", \n",
    "    \"pepas\": False\n",
    "}\n",
    "\n",
    "frutilla = {\n",
    "    \"nombre\": \"frutilla\", \n",
    "    \"tipo\": \"bosque\", \n",
    "    \"color\": \"rojo\", \n",
    "    \"pepas\": True\n",
    "}\n",
    "\n",
    "frambuesa = {\n",
    "    \"nombre\": \"frambuesa\", \n",
    "    \"tipo\": \"bosque\", \n",
    "    \"color\": \"rojo\", \n",
    "    \"pepas\": True\n",
    "}"
   ]
  },
  {
   "cell_type": "markdown",
   "id": "259ee333",
   "metadata": {
    "id": "259ee333"
   },
   "source": [
    "Ahora, agregue todas las frutas a un arreglo."
   ]
  },
  {
   "cell_type": "code",
   "execution_count": 2,
   "id": "fcf62186",
   "metadata": {
    "id": "fcf62186"
   },
   "outputs": [],
   "source": [
    "# Ojo: agregue los datos en el mismo orden que aparecen en la tabla\n",
    "datos = [limon, naranja, platano, pina, frutilla, frambuesa]"
   ]
  },
  {
   "cell_type": "markdown",
   "id": "2ed7730e",
   "metadata": {
    "id": "2ed7730e"
   },
   "source": [
    "Este arreglo será la información con la que se trabajará durante el lab."
   ]
  },
  {
   "cell_type": "markdown",
   "id": "e9b1e46d",
   "metadata": {
    "id": "e9b1e46d"
   },
   "source": [
    "### Funciones Aplicadas a los Datos [1.5 puntos]"
   ]
  },
  {
   "cell_type": "markdown",
   "id": "b7b016d6",
   "metadata": {
    "id": "b7b016d6"
   },
   "source": [
    "Elabore las siguientes funciones:\n",
    "    \n",
    "**1. La función `describir(datos)` que genere un arreglo con strings que describan cada fruta de la siguiente manera:**\n",
    "\n",
    "```{El/La} {...} es una fruta de tipo {...} de color {...}. {Presenta/No presenta} pepas en su interior.```\n",
    "    \n",
    "Por ejemplo, para el plátano se debe generar el siguiente string:\n",
    "    \n",
    "```\n",
    "'El plátano es una fruta de tipo tropical de color amarillo. No presenta pepas en su interior.'\n",
    "```\n",
    "    \n",
    "Indicaciones: \n",
    "- Usen formateo o suma de strings, if, else y for.\n",
    "- Para saber si ocupar 'El' o 'La', pueden acceder al nombre de la fruta y ver cual es el último carácter a través de indexadores `string[indice]`.\n",
    "    \n",
    "**2. La función `filtrar_por_pepa(datos, tiene_pepas)` que dado un tipo de fruta y un booleano, retorne las frutas que tienen o no tienen pepas (según el valor de `tiene_pepas`).**\n",
    "    \n",
    "\n",
    "Por ejemplo, `filtrar_por_pepa(datos, True)` deberá retornar un arreglo con los diccionarios de: naranja, limon, frutilla y frambuesa.\n",
    "\n",
    "\n",
    "**3. La función `conteo_colores(datos)` que cree un diccionario que haga un conteo los colores de las frutas.**\n",
    "\n",
    "Para estos datos, la función debería retornar el siguiente diccionario: \n",
    "    \n",
    "```python\n",
    "{\"amarillo\": 3, \"naranjo\": 1, \"rojo\": 2}\n",
    "````"
   ]
  },
  {
   "cell_type": "markdown",
   "id": "9Wqh7UyYXXIi",
   "metadata": {
    "id": "9Wqh7UyYXXIi"
   },
   "source": [
    "**Desarrollo de código:**"
   ]
  },
  {
   "cell_type": "code",
   "execution_count": 20,
   "id": "023bc051",
   "metadata": {
    "id": "023bc051"
   },
   "outputs": [],
   "source": [
    "from typing import List, Dict, Callable\n",
    "\n",
    "def get_description(fruta: dict) -> str:\n",
    "    \"\"\" Obtiene la descripción de una fruta \"\"\"\n",
    "    \n",
    "    articulo: str = \"La\" if fruta[\"nombre\"][-1] == \"a\" else \"El\"\n",
    "    presenta: str = \"Presenta\" if fruta[\"pepas\"] else \"No presenta\"\n",
    "    return f\"{articulo} {fruta['nombre']} \" \\\n",
    "        f\"es una fruta de tipo {fruta['tipo']} \" \\\n",
    "        f\"de color {fruta['color']}. \" \\\n",
    "        f\"{presenta} pepas en su interior.\"\n",
    "\n",
    "def describir(datos: List[dict]) -> List[str]:\n",
    "    \"\"\" Realiza get_description sobre todos los datos. \"\"\"\n",
    "    \n",
    "    return list(map(get_description, datos))\n",
    "\n",
    "\n",
    "def filtrar_por_pepa(datos: List[dict], tiene_pepas: bool) -> List[dict]:\n",
    "    \"\"\" Filtra los datos según pepas. \"\"\"\n",
    "    \n",
    "    return list(filter(lambda fruta: fruta[\"pepas\"] == tiene_pepas, datos))\n",
    "\n",
    "\n",
    "def conteo_colores(datos: List[dict]) -> List[Dict[str, int]]:\n",
    "    \"\"\" Agrupa los datos en colores, contándolos. \"\"\"\n",
    "    \n",
    "    colores: dict = {fruta[\"color\"] : 0 for fruta in datos}\n",
    "    for fruta in datos:\n",
    "        colores[fruta[\"color\"]] += 1\n",
    "    return colores\n"
   ]
  },
  {
   "cell_type": "markdown",
   "id": "5240bec1",
   "metadata": {
    "id": "5240bec1"
   },
   "source": [
    "El código de la siguiente celda presenta tests para probar sus funciones: Si la ejecución de esta celda no les levanta ninguna excepción, entonces sus funciones están implementadas según lo requerido. Si alguna falla, entonces deberán corregir los errores mostrados. \n",
    "Noten que los strings, diccionarios y en general, los objetos deben ser exactamente idénticos para que el test no falle."
   ]
  },
  {
   "cell_type": "markdown",
   "id": "_DWuD58nXd2q",
   "metadata": {
    "id": "_DWuD58nXd2q"
   },
   "source": [
    "**Ejecuten esta celda para comprobar su código:**"
   ]
  },
  {
   "cell_type": "code",
   "execution_count": 21,
   "id": "c39b58c0",
   "metadata": {
    "id": "c39b58c0"
   },
   "outputs": [],
   "source": [
    "# ---------------------------------------------------------------------\n",
    "# test descripciones\n",
    "# note que las frutas deben estar en igual orden para que este assert no falle.\n",
    "\n",
    "descripciones_esperadas = [\n",
    "    \"El limón es una fruta de tipo cítrica de color amarillo. Presenta pepas en su interior.\",\n",
    "    \"La naranja es una fruta de tipo cítrica de color naranjo. Presenta pepas en su interior.\",\n",
    "    \"El plátano es una fruta de tipo tropical de color amarillo. No presenta pepas en su interior.\",\n",
    "    \"La piña es una fruta de tipo tropical de color amarillo. No presenta pepas en su interior.\",\n",
    "    \"La frutilla es una fruta de tipo bosque de color rojo. Presenta pepas en su interior.\",\n",
    "    \"La frambuesa es una fruta de tipo bosque de color rojo. Presenta pepas en su interior.\",\n",
    "]\n",
    "\n",
    "assert descripciones_esperadas == describir(datos)\n",
    "\n",
    "\n",
    "# ---------------------------------------------------------------------\n",
    "# test filtro\n",
    "frutas_con_pepa_esperadas = [\n",
    "    {\"nombre\": \"limón\", \"tipo\": \"cítrica\", \"color\": \"amarillo\", \"pepas\": True},\n",
    "    {\"nombre\": \"naranja\", \"tipo\": \"cítrica\", \"color\": \"naranjo\", \"pepas\": True},\n",
    "    {\"nombre\": \"frutilla\", \"tipo\": \"bosque\", \"color\": \"rojo\", \"pepas\": True},\n",
    "    {\"nombre\": \"frambuesa\", \"tipo\": \"bosque\", \"color\": \"rojo\", \"pepas\": True}\n",
    "]\n",
    "\n",
    "assert frutas_con_pepa_esperadas == filtrar_por_pepa(datos, True)\n",
    "\n",
    "# ---------------------------------------------------------------------\n",
    "# test conteo\n",
    "conteo_esperado = {'amarillo': 3, 'naranjo': 1, 'rojo': 2}\n",
    "\n",
    "\n",
    "assert conteo_esperado == conteo_colores(datos) \n"
   ]
  },
  {
   "cell_type": "markdown",
   "id": "ef45d2ea",
   "metadata": {
    "id": "ef45d2ea"
   },
   "source": [
    "### Implementaciones Funcionales [1.0 punto] \n",
    "\n",
    "Implementar las funciones de la sección anterior de forma funcional (solo las primeras 2 funciones).\n",
    "\n"
   ]
  },
  {
   "cell_type": "code",
   "execution_count": 26,
   "id": "c6ef993a",
   "metadata": {
    "id": "c6ef993a"
   },
   "outputs": [],
   "source": [
    "def describir_funcional(datos: List[dict]) -> List[str]:\n",
    "\n",
    "    def generar_descripcion(fruta: dict) -> str:\n",
    "        # esta función debería retornar el string para una fruta en particular.\n",
    "        \n",
    "        # Ya lo había resuelto con map :c, así que haré la función de otra forma\n",
    "        return f\"{'La' if fruta['nombre'][-1] == 'a' else 'El'} {fruta['nombre']} \" \\\n",
    "            f\"es una fruta de tipo {fruta['tipo']} \" \\\n",
    "            f\"de color {fruta['color']}. \" \\\n",
    "            f\"{'Presenta' if fruta['pepas'] else 'No presenta'} pepas en su interior.\"\n",
    " \n",
    "    descripciones = list(map(generar_descripcion, datos))\n",
    "    return descripciones\n",
    "    \n",
    "def filtrar_por_pepa_funcional(datos: List[dict], tipo_de_dato: bool) -> List[dict]:\n",
    "    filtrados = list(filter(lambda fruta: fruta[\"pepas\"] == tipo_de_dato, datos))\n",
    "    return filtrados"
   ]
  },
  {
   "cell_type": "markdown",
   "id": "fwno3rOhn_jd",
   "metadata": {
    "id": "fwno3rOhn_jd"
   },
   "source": [
    "Nuevamente más tests, ahora para las funciones con map y filter.\n",
    "\n",
    "**Ejecuten esta celda para comprobar su código:**"
   ]
  },
  {
   "cell_type": "code",
   "execution_count": 27,
   "id": "vlRVONAClo3i",
   "metadata": {
    "id": "vlRVONAClo3i"
   },
   "outputs": [],
   "source": [
    "assert descripciones_esperadas == describir_funcional(datos)\n",
    "assert frutas_con_pepa_esperadas == filtrar_por_pepa_funcional(datos, True)"
   ]
  },
  {
   "cell_type": "markdown",
   "id": "492b941a",
   "metadata": {
    "id": "492b941a"
   },
   "source": [
    "## Parte 2: Electrodomésticos 🧃\n",
    "\n",
    "En esta parte se solicitarán un par de clases que permitirá jugar con la Programación Orientada a Objetos.\n",
    "\n",
    "<div align='center'>\n",
    "<img src='https://upload.wikimedia.org/wikipedia/commons/6/67/Breville.jpg' width=400/>\n",
    "</div>"
   ]
  },
  {
   "cell_type": "markdown",
   "id": "PDaUTTiLd8fl",
   "metadata": {
    "id": "PDaUTTiLd8fl"
   },
   "source": [
    "### Clase Electrodoméstico [0.5 puntos] \n",
    "\n",
    "\n",
    "\n",
    "\n",
    "Defina la clase `Electrodomestico` que implemente:\n",
    "\n",
    "\n",
    "- Un constructor que defina un atributo de instancia llamado `enchufado` que almacene valores booleanos. \n",
    "- Un método llamado `esta_enchufado(self)` que levante una excepción `Exception` y que termine con la ejecución del programa cuando el atributo enchuado sea `False`. La exepción debe levantar el mensaje `'Alerta ⚠️: El electrodoméstico no está enchufado'`\n",
    "- Un método llamado `enchufar(self)` que cambia el estado de `enchufado` a `True`."
   ]
  },
  {
   "cell_type": "code",
   "execution_count": 29,
   "id": "9f8aa475",
   "metadata": {
    "id": "9f8aa475"
   },
   "outputs": [],
   "source": [
    "class ApplianceException(Exception):\n",
    "    \"\"\" Errores asociados a Electrodomésticos. \"\"\"\n",
    "\n",
    "class NotPluggedInException(ApplianceException):\n",
    "    \"\"\" Excepción arrojada cuando el electrodoméstico no está enchufado \"\"\"\n",
    "    \n",
    "    message: str \n",
    "    def __init__(self, message: str = \"Alerta ⚠️: El electrodoméstico no está enchufado\"):\n",
    "        self.message = message\n",
    "        super().__init__(self.message)\n",
    "\n",
    "class Electrodomestico:\n",
    "    \"\"\" Representa un electrodoméstrico enchufable. \"\"\"\n",
    "    \n",
    "    enchufado: bool\n",
    "    def __init__(self):\n",
    "        self.enchufado = False\n",
    "    \n",
    "        \n",
    "    def esta_enchufado(self) -> bool:\n",
    "        \"\"\" \n",
    "        Comprueba si el electrodoméstico está enchufado.\n",
    "        En caso contrario, arrojará un NotPluggedInException \n",
    "        \"\"\"\n",
    "        if not self.enchufado:\n",
    "            raise NotPluggedInException()\n",
    "        return True \n",
    "            \n",
    "    def enchufar(self):\n",
    "        \"\"\" Enchufa el electrodoméstico cambiado su estado `enchufado` a True \"\"\"\n",
    "        self.enchufado = True"
   ]
  },
  {
   "cell_type": "markdown",
   "id": "d7d477b5",
   "metadata": {
    "id": "d7d477b5"
   },
   "source": [
    "### Clase Jugera [2.5 puntos] \n",
    "\n",
    "\n",
    "<div align='center'>\n",
    "<img src='https://upload.wikimedia.org/wikipedia/commons/b/bb/Liquadora_%28parts%29.JPG' width=400/>\n",
    "</div>\n",
    "\n"
   ]
  },
  {
   "cell_type": "markdown",
   "id": "f72a5754",
   "metadata": {
    "id": "f72a5754"
   },
   "source": [
    "Implemente la clase `Jugera` que extiende `Electrodomestico` y que implemente: \n",
    "\n",
    "\n",
    "- Un constructor que tenga una lista de ingredientes frutales (llamado `bandeja`).\n",
    "\n",
    "\n",
    "- Un método llamado `agregar_ingrediente(self, nueva_fruta)` que dado una fruta, agregue esa fruta a la `bandeja`.\n",
    "\n",
    "- Un método llamado `listar_ingredientes(self)` que imprima (con `print`) los ingredientes actuales de la `bandeja` de la siguiente forma: \n",
    "\n",
    "    `Ingredientes en la bandeja: frutilla, frambuesa, piña.`\n",
    "\n",
    "En el caso que la bandeja esté vacía, esta debe imprimir `Bandeja vacía`.\n",
    "\n",
    "    Hint: Investigar el método `join` de un string para generar el string con los nombres de las frutas.\n",
    "    \n",
    "\n",
    "- Un método llamado `preparar_jugo(self)` que: \n",
    "    - Primero verifique que el electrodoméstico esté enchufado usando `self.esta_enchufado()`.\n",
    "    - Verifique que haya por lo menos un ingrediente en la `bandeja`. En el caso que no haya, levantar una excepción con contenido `'Error ❌: La bandeja no tiene ingredientes.'`\n",
    "    - Verifique que ninguna fruta tenga pepas. En el caso que haya alguna, imprimir (con `print`) el mensaje de advertencia `'Alerta ⚠️: El jugo puede contener restos de pepas.'`. Puede usar la función definida en la sección anterior.\n",
    "    - Genere un mensaje indicado `Jugo de {nombres de las frutas separadas por una ,} listo. 🏖️🥤 Que lo disfrutes!!! 🥤🏖️. ` (Hint: Usar nuevamente `join`).\n",
    "    - Vacie la `bandeja` (es decir, eliminar todas las frutas de la bandeja).\n",
    "    - Retorne el mensaje generado.\n"
   ]
  },
  {
   "cell_type": "code",
   "execution_count": 59,
   "id": "d9db037b",
   "metadata": {
    "id": "d9db037b"
   },
   "outputs": [],
   "source": [
    "class EmptyTrayException(ApplianceException):\n",
    "    \"\"\" Excepción arrojada cuando se intenta preparar un jugo con la bandeja vacía \"\"\"\n",
    "    \n",
    "    message: str \n",
    "    def __init__(self, message: str = \"Error ❌: La bandeja no tiene ingredientes.\"):\n",
    "        self.message = message\n",
    "        super().__init__(self.message)\n",
    "    \n",
    "\n",
    "class Jugera(Electrodomestico):\n",
    "    \"\"\" \n",
    "    Electrodoméstico de preparación de jugos, \n",
    "    cuenta con una bandeja en el se almacenarán los ingredientes.\n",
    "    \"\"\"\n",
    "    \n",
    "    bandeja: List[dict]\n",
    "    def __init__(self):\n",
    "        self.bandeja = []\n",
    "        super().__init__()\n",
    "        \n",
    "    def agregar_ingrediente(self, nueva_fruta):\n",
    "        \"\"\" Agrega una nueva fruta a la bandeja \"\"\"\n",
    "        \n",
    "        self.bandeja.append(nueva_fruta)\n",
    "     \n",
    "    def listar_ingredientes(self):\n",
    "        \"\"\" Lista los ingredientes actuales de la bandeja \"\"\"\n",
    "        \n",
    "        if not self.bandeja:\n",
    "            print(\"Bandeja vacía\")\n",
    "            return\n",
    "        print(\"Ingredientes en la bandeja: \" + ' '.join(fruta[\"nombre\"] for fruta in self.bandeja))\n",
    "    \n",
    "    def preparar_jugo(self) -> str:\n",
    "        \"\"\" \n",
    "        Prepara un jugo con los ingredientes en la bandeja,\n",
    "        Si la bandeja no tiene ingredientes, se arrojará un EmptyTrayException\n",
    "        \"\"\"\n",
    "        \n",
    "        self.esta_enchufado()\n",
    "        if not self.bandeja: \n",
    "            raise EmptyTrayException()\n",
    "        \n",
    "        if filtrar_por_pepa(self.bandeja, True):\n",
    "            print(\"Alerta ⚠️: El jugo puede contener restos de pepas.\")\n",
    "            \n",
    "        mensaje: str = \"Jugo de \" + ', '.join(fruta[\"nombre\"] for fruta in self.bandeja) + \" listo. 🏖️🥤 Que lo disfrutes!!! 🥤🏖️.\"\n",
    "        self.bandeja = []\n",
    "        return mensaje"
   ]
  },
  {
   "cell_type": "markdown",
   "id": "6889015a",
   "metadata": {
    "id": "6889015a"
   },
   "source": [
    "### Interacciones\n",
    "\n",
    "Las siguientes celdas les permitirán probar las interacciones de esta clase.\n",
    "La ejecución es solo referencial y no lleva puntaje. La idea es que la utilice como guía para desarrollar la clase."
   ]
  },
  {
   "cell_type": "code",
   "execution_count": 60,
   "id": "913af660",
   "metadata": {
    "id": "913af660",
    "outputId": "ce258367-a758-4398-f4a8-f081245bfa60"
   },
   "outputs": [
    {
     "name": "stdout",
     "output_type": "stream",
     "text": [
      "Bandeja vacía\n"
     ]
    }
   ],
   "source": [
    "jugera = Jugera()\n",
    "\n",
    "# Como no tenemos ingredientes, listar_ingredientes deberá imprimir 'Bandeja vacía'\n",
    "jugera.listar_ingredientes()"
   ]
  },
  {
   "cell_type": "code",
   "execution_count": 61,
   "id": "9d06bf3e",
   "metadata": {
    "id": "9d06bf3e",
    "outputId": "6ce58841-fbaa-43a5-eea6-2b0842e77ed4",
    "scrolled": false
   },
   "outputs": [
    {
     "ename": "NotPluggedInException",
     "evalue": "Alerta ⚠️: El electrodoméstico no está enchufado",
     "output_type": "error",
     "traceback": [
      "\u001b[0;31m---------------------------------------------------------------------------\u001b[0m",
      "\u001b[0;31mNotPluggedInException\u001b[0m                     Traceback (most recent call last)",
      "\u001b[0;32m<ipython-input-61-12a82fa67e1d>\u001b[0m in \u001b[0;36m<module>\u001b[0;34m\u001b[0m\n\u001b[1;32m      1\u001b[0m \u001b[0;31m# Esta celda debería levantar una excepcion indicando que no está enchufada la jugera.\u001b[0m\u001b[0;34m\u001b[0m\u001b[0;34m\u001b[0m\u001b[0;34m\u001b[0m\u001b[0m\n\u001b[0;32m----> 2\u001b[0;31m \u001b[0mjugera\u001b[0m\u001b[0;34m.\u001b[0m\u001b[0mpreparar_jugo\u001b[0m\u001b[0;34m(\u001b[0m\u001b[0;34m)\u001b[0m\u001b[0;34m\u001b[0m\u001b[0;34m\u001b[0m\u001b[0m\n\u001b[0m",
      "\u001b[0;32m<ipython-input-59-44aeecefa803>\u001b[0m in \u001b[0;36mpreparar_jugo\u001b[0;34m(self)\u001b[0m\n\u001b[1;32m     38\u001b[0m         \"\"\"\n\u001b[1;32m     39\u001b[0m \u001b[0;34m\u001b[0m\u001b[0m\n\u001b[0;32m---> 40\u001b[0;31m         \u001b[0mself\u001b[0m\u001b[0;34m.\u001b[0m\u001b[0mesta_enchufado\u001b[0m\u001b[0;34m(\u001b[0m\u001b[0;34m)\u001b[0m\u001b[0;34m\u001b[0m\u001b[0;34m\u001b[0m\u001b[0m\n\u001b[0m\u001b[1;32m     41\u001b[0m         \u001b[0;32mif\u001b[0m \u001b[0;32mnot\u001b[0m \u001b[0mself\u001b[0m\u001b[0;34m.\u001b[0m\u001b[0mbandeja\u001b[0m\u001b[0;34m:\u001b[0m\u001b[0;34m\u001b[0m\u001b[0;34m\u001b[0m\u001b[0m\n\u001b[1;32m     42\u001b[0m             \u001b[0;32mraise\u001b[0m \u001b[0mEmptyTrayException\u001b[0m\u001b[0;34m(\u001b[0m\u001b[0;34m)\u001b[0m\u001b[0;34m\u001b[0m\u001b[0;34m\u001b[0m\u001b[0m\n",
      "\u001b[0;32m<ipython-input-29-725253b0c956>\u001b[0m in \u001b[0;36mesta_enchufado\u001b[0;34m(self)\u001b[0m\n\u001b[1;32m     21\u001b[0m             en caso contrario, arrojará un NotPluggedInException \"\"\"\n\u001b[1;32m     22\u001b[0m         \u001b[0;32mif\u001b[0m \u001b[0;32mnot\u001b[0m \u001b[0mself\u001b[0m\u001b[0;34m.\u001b[0m\u001b[0menchufado\u001b[0m\u001b[0;34m:\u001b[0m\u001b[0;34m\u001b[0m\u001b[0;34m\u001b[0m\u001b[0m\n\u001b[0;32m---> 23\u001b[0;31m             \u001b[0;32mraise\u001b[0m \u001b[0mNotPluggedInException\u001b[0m\u001b[0;34m(\u001b[0m\u001b[0;34m)\u001b[0m\u001b[0;34m\u001b[0m\u001b[0;34m\u001b[0m\u001b[0m\n\u001b[0m\u001b[1;32m     24\u001b[0m         \u001b[0;32mreturn\u001b[0m \u001b[0;32mTrue\u001b[0m\u001b[0;34m\u001b[0m\u001b[0;34m\u001b[0m\u001b[0m\n\u001b[1;32m     25\u001b[0m \u001b[0;34m\u001b[0m\u001b[0m\n",
      "\u001b[0;31mNotPluggedInException\u001b[0m: Alerta ⚠️: El electrodoméstico no está enchufado"
     ]
    }
   ],
   "source": [
    "# Esta celda debería levantar una excepcion indicando que no está enchufada la jugera.\n",
    "jugera.preparar_jugo()"
   ]
  },
  {
   "cell_type": "code",
   "execution_count": 62,
   "id": "3ad38f18",
   "metadata": {
    "id": "3ad38f18"
   },
   "outputs": [],
   "source": [
    "# Enchufamos el electrodoméstico\n",
    "jugera.enchufar()"
   ]
  },
  {
   "cell_type": "code",
   "execution_count": 63,
   "id": "48009872",
   "metadata": {
    "id": "48009872",
    "outputId": "5b46ee29-ad22-46a4-aebe-d9bd7c5325c2",
    "scrolled": true
   },
   "outputs": [
    {
     "ename": "EmptyTrayException",
     "evalue": "Error ❌: La bandeja no tiene ingredientes.",
     "output_type": "error",
     "traceback": [
      "\u001b[0;31m---------------------------------------------------------------------------\u001b[0m",
      "\u001b[0;31mEmptyTrayException\u001b[0m                        Traceback (most recent call last)",
      "\u001b[0;32m<ipython-input-63-763feb2b9970>\u001b[0m in \u001b[0;36m<module>\u001b[0;34m\u001b[0m\n\u001b[1;32m      1\u001b[0m \u001b[0;31m# Esta celda debería levantar ina excepción informandoles que la bandeja no tiene ingredientes.\u001b[0m\u001b[0;34m\u001b[0m\u001b[0;34m\u001b[0m\u001b[0;34m\u001b[0m\u001b[0m\n\u001b[0;32m----> 2\u001b[0;31m \u001b[0mjugera\u001b[0m\u001b[0;34m.\u001b[0m\u001b[0mpreparar_jugo\u001b[0m\u001b[0;34m(\u001b[0m\u001b[0;34m)\u001b[0m\u001b[0;34m\u001b[0m\u001b[0;34m\u001b[0m\u001b[0m\n\u001b[0m",
      "\u001b[0;32m<ipython-input-59-44aeecefa803>\u001b[0m in \u001b[0;36mpreparar_jugo\u001b[0;34m(self)\u001b[0m\n\u001b[1;32m     40\u001b[0m         \u001b[0mself\u001b[0m\u001b[0;34m.\u001b[0m\u001b[0mesta_enchufado\u001b[0m\u001b[0;34m(\u001b[0m\u001b[0;34m)\u001b[0m\u001b[0;34m\u001b[0m\u001b[0;34m\u001b[0m\u001b[0m\n\u001b[1;32m     41\u001b[0m         \u001b[0;32mif\u001b[0m \u001b[0;32mnot\u001b[0m \u001b[0mself\u001b[0m\u001b[0;34m.\u001b[0m\u001b[0mbandeja\u001b[0m\u001b[0;34m:\u001b[0m\u001b[0;34m\u001b[0m\u001b[0;34m\u001b[0m\u001b[0m\n\u001b[0;32m---> 42\u001b[0;31m             \u001b[0;32mraise\u001b[0m \u001b[0mEmptyTrayException\u001b[0m\u001b[0;34m(\u001b[0m\u001b[0;34m)\u001b[0m\u001b[0;34m\u001b[0m\u001b[0;34m\u001b[0m\u001b[0m\n\u001b[0m\u001b[1;32m     43\u001b[0m \u001b[0;34m\u001b[0m\u001b[0m\n\u001b[1;32m     44\u001b[0m         \u001b[0;32mif\u001b[0m \u001b[0mfiltrar_por_pepa\u001b[0m\u001b[0;34m(\u001b[0m\u001b[0mself\u001b[0m\u001b[0;34m.\u001b[0m\u001b[0mbandeja\u001b[0m\u001b[0;34m,\u001b[0m \u001b[0;32mTrue\u001b[0m\u001b[0;34m)\u001b[0m\u001b[0;34m:\u001b[0m\u001b[0;34m\u001b[0m\u001b[0;34m\u001b[0m\u001b[0m\n",
      "\u001b[0;31mEmptyTrayException\u001b[0m: Error ❌: La bandeja no tiene ingredientes."
     ]
    }
   ],
   "source": [
    "# Esta celda debería levantar ina excepción informandoles que la bandeja no tiene ingredientes.\n",
    "jugera.preparar_jugo()"
   ]
  },
  {
   "cell_type": "code",
   "execution_count": 64,
   "id": "4873e0bf",
   "metadata": {
    "id": "4873e0bf",
    "outputId": "e8ba6792-dd0e-4b67-86d1-da1b2e2aab6b"
   },
   "outputs": [
    {
     "name": "stdout",
     "output_type": "stream",
     "text": [
      "Ingredientes en la bandeja: naranja plátano\n"
     ]
    }
   ],
   "source": [
    "# Agregamos algunos ingredientes\n",
    "jugera.agregar_ingrediente(naranja)\n",
    "jugera.agregar_ingrediente(platano)\n",
    "\n",
    "# Y los listamos (debería imprimir: 'Ingredientes en la bandeja: naranja, plátano')\n",
    "jugera.listar_ingredientes()"
   ]
  },
  {
   "cell_type": "code",
   "execution_count": 65,
   "id": "ff555151",
   "metadata": {
    "id": "ff555151",
    "outputId": "219e56f9-290e-4514-a404-d2612d8756d5"
   },
   "outputs": [
    {
     "name": "stdout",
     "output_type": "stream",
     "text": [
      "Alerta ⚠️: El jugo puede contener restos de pepas.\n"
     ]
    },
    {
     "data": {
      "text/plain": [
       "'Jugo de naranja, plátano listo. 🏖️🥤 Que lo disfrutes!!! 🥤🏖️.'"
      ]
     },
     "execution_count": 65,
     "metadata": {},
     "output_type": "execute_result"
    }
   ],
   "source": [
    "# Preparamos el jugo: 'Jugo de naranja, plátano listo. 🏖️🥤 Que lo disfrutes!!! 🥤🏖️.'\n",
    "jugera.preparar_jugo()"
   ]
  },
  {
   "cell_type": "code",
   "execution_count": 66,
   "id": "bbc532b2",
   "metadata": {
    "id": "bbc532b2",
    "outputId": "066e90cc-99c7-487c-c262-a1be46aac7a4"
   },
   "outputs": [
    {
     "name": "stdout",
     "output_type": "stream",
     "text": [
      "Bandeja vacía\n"
     ]
    }
   ],
   "source": [
    "# Una vez preparado el jugo, debería vaciarse la bandeja (imprimir Bandeja vacía)\n",
    "jugera.listar_ingredientes()"
   ]
  },
  {
   "cell_type": "markdown",
   "id": "972dbcac",
   "metadata": {
    "id": "972dbcac"
   },
   "source": [
    "## Bonus [0.5]\n",
    "\n",
    "Implementar `bandeja` usando una `property` que permita setear una `nueva_bandeja` como `bandeja` según las siguientes condiciones:\n",
    "\n",
    "\n",
    "- Compruebe que `nueva_bandeja` sea una lista. En caso contrario, levante una excepción.\n",
    "- No permita agregar más de 3 ingredientes a la bandeja a la vez. Si se entregan más de 3 frutas, se levante una excepción.\n",
    "- Se compruebe que todos los elementos del arreglo sean frutas. Para esto, por cada fruta compruebe que:\n",
    "    1. La fruta sea diccionario.\n",
    "    2. El diccionario entregado tenga las llaves `nombre`, `tipo`, `color` y `pepas`."
   ]
  },
  {
   "cell_type": "code",
   "execution_count": 97,
   "id": "cVRf_u57sI0i",
   "metadata": {
    "id": "cVRf_u57sI0i"
   },
   "outputs": [],
   "source": [
    "class EmptyTrayException(ApplianceException):\n",
    "    \"\"\" Excepción arrojada cuando se intenta preparar un jugo con la bandeja vacía \"\"\"\n",
    "    \n",
    "    message: str \n",
    "    def __init__(self, message: str = \"Error ❌: La bandeja no tiene ingredientes.\"):\n",
    "        self.message = message\n",
    "        super().__init__(self.message)\n",
    "        \n",
    "class MaxSizeTrayException(ApplianceException):\n",
    "    \"\"\" Excepción arrojada cuando la bandeja supera el tamaño máximo especificado \"\"\"\n",
    "    \n",
    "    message: str\n",
    "    size: int\n",
    "    max_size: int\n",
    "    def __init__(\n",
    "        self, \n",
    "        size: int, \n",
    "        max_size: int, \n",
    "        message: str = \"Error ❌: La bandeja supera el tamaño máximo especificado\"\n",
    "    ):\n",
    "        self.message = message\n",
    "        self.size = size\n",
    "        self.max_size = max_size\n",
    "        super().__init__(self.message)\n",
    "        \n",
    "    def __str__(self):\n",
    "        return f\"{self.size} > {self.max_size} -> {self.message}\"\n",
    "\n",
    "class Jugera(Electrodomestico):\n",
    "    \"\"\" \n",
    "    Electrodoméstico de preparación de jugos, \n",
    "    cuenta con una bandeja en el se almacenarán los ingredientes.\n",
    "    \"\"\"\n",
    "    \n",
    "    \n",
    "    _bandeja: List[dict]\n",
    "    _max_size: int\n",
    "    def __init__(self, max_size: int = 3):\n",
    "        self._bandeja = []\n",
    "        self._max_size = max_size\n",
    "        super().__init__()\n",
    "    \n",
    "    @staticmethod\n",
    "    def __check_fruta(fruta: dict) -> None:\n",
    "        \"\"\" Comprueba si el modelo de datos proporcionado es una fruta \"\"\"\n",
    "        \n",
    "        keys: List[str] = [\"nombre\", \"tipo\", \"color\", \"pepas\"]\n",
    "        if not isinstance(fruta, dict):\n",
    "            raise ValueError(\"La fruta no es un diccionario con atributos\")\n",
    "            \n",
    "        if list(fruta.keys()) != keys:\n",
    "            raise ValueError(f\"La fruta no cuenta con las llaves requeridas: {keys}\")\n",
    "    \n",
    "    def __check_bandeja(self, bandeja: List[dict]) -> None:\n",
    "        \"\"\" Comprueba que la bandeja cumpla las condiciones de la juguera \"\"\"\n",
    "        \n",
    "        if not isinstance(bandeja, list):\n",
    "            raise ValueError(\"La bandeja debe ser una lista de frutas\")\n",
    "            \n",
    "        if len(bandeja) > 3:\n",
    "            raise MaxSizeTrayException(len(bandeja), self._max_size)\n",
    "            \n",
    "        for fruta in bandeja: # TODO: map no arroja error.\n",
    "            self.__check_fruta(fruta)\n",
    "\n",
    "        \n",
    "    @property\n",
    "    def bandeja(self) -> List[dict]:\n",
    "        return self._bandeja\n",
    "        \n",
    "    @property\n",
    "    def max_size(self) -> int:\n",
    "        return self._max_size\n",
    "        \n",
    "    @bandeja.setter\n",
    "    def bandeja(self, nueva_bandeja):\n",
    "        self.__check_bandeja(nueva_bandeja)\n",
    "        self._bandeja = nueva_bandeja\n",
    "\n",
    "    def agregar_ingrediente(self, nueva_fruta) -> None:\n",
    "        \"\"\" \n",
    "        Agrega una nueva fruta a la bandeja,\n",
    "        Si al agregar la nueva fruta, supera el tamaño máximo, arrojará un MaxSizeTrayException\n",
    "        \"\"\"\n",
    "        \n",
    "        if len(self._bandeja) == 3:\n",
    "            raise MaxSizeTrayException(4, 3) # ya que con la nueva fruta, serían 4.\n",
    "        \n",
    "        self.__check_fruta(nueva_fruta)\n",
    "        self._bandeja.append(nueva_fruta)\n",
    "     \n",
    "    def listar_ingredientes(self) -> None:\n",
    "        \"\"\" Lista los ingredientes de la bandeja \"\"\"\n",
    "        \n",
    "        if not self.bandeja:\n",
    "            print(\"Bandeja vacía\")\n",
    "            return\n",
    "        print(\"Ingredientes en la bandeja: \" + ' '.join(fruta[\"nombre\"] for fruta in self.bandeja))\n",
    "    \n",
    "    def preparar_jugo(self) -> str:\n",
    "        \"\"\" \n",
    "        Prepara un jugo con los ingredientes en la bandeja,\n",
    "        Si la bandeja no tiene ingredientes, se arrojará un EmptyTrayException\n",
    "        \"\"\"\n",
    "        \n",
    "        self.esta_enchufado()\n",
    "        if not self.bandeja: \n",
    "            raise EmptyTrayException()\n",
    "        \n",
    "        if filtrar_por_pepa(self.bandeja, True):\n",
    "            print(\"Alerta ⚠️: El jugo puede contener restos de pepas.\")\n",
    "            \n",
    "        mensaje: str = \"Jugo de \" + ', '.join(fruta[\"nombre\"] for fruta in self.bandeja) + \" listo. 🏖️🥤 Que lo disfrutes!!! 🥤🏖️.\"\n",
    "        self.bandeja = []\n",
    "        return mensaje"
   ]
  },
  {
   "cell_type": "code",
   "execution_count": 98,
   "id": "74a1169a",
   "metadata": {},
   "outputs": [
    {
     "ename": "ValueError",
     "evalue": "La bandeja debe ser una lista de frutas",
     "output_type": "error",
     "traceback": [
      "\u001b[0;31m---------------------------------------------------------------------------\u001b[0m",
      "\u001b[0;31mValueError\u001b[0m                                Traceback (most recent call last)",
      "\u001b[0;32m<ipython-input-98-ad61d7d18287>\u001b[0m in \u001b[0;36m<module>\u001b[0;34m\u001b[0m\n\u001b[1;32m      2\u001b[0m \u001b[0;34m\u001b[0m\u001b[0m\n\u001b[1;32m      3\u001b[0m \u001b[0;31m# Testeando que al intentar agregar un elemento que no sea lista a la bandeja, arroje un error\u001b[0m\u001b[0;34m\u001b[0m\u001b[0;34m\u001b[0m\u001b[0;34m\u001b[0m\u001b[0m\n\u001b[0;32m----> 4\u001b[0;31m \u001b[0mjugera\u001b[0m\u001b[0;34m.\u001b[0m\u001b[0mbandeja\u001b[0m \u001b[0;34m=\u001b[0m \u001b[0;34m\"uwu\"\u001b[0m\u001b[0;34m\u001b[0m\u001b[0;34m\u001b[0m\u001b[0m\n\u001b[0m",
      "\u001b[0;32m<ipython-input-97-daae716e72fe>\u001b[0m in \u001b[0;36mbandeja\u001b[0;34m(self, nueva_bandeja)\u001b[0m\n\u001b[1;32m     75\u001b[0m     \u001b[0;34m@\u001b[0m\u001b[0mbandeja\u001b[0m\u001b[0;34m.\u001b[0m\u001b[0msetter\u001b[0m\u001b[0;34m\u001b[0m\u001b[0;34m\u001b[0m\u001b[0m\n\u001b[1;32m     76\u001b[0m     \u001b[0;32mdef\u001b[0m \u001b[0mbandeja\u001b[0m\u001b[0;34m(\u001b[0m\u001b[0mself\u001b[0m\u001b[0;34m,\u001b[0m \u001b[0mnueva_bandeja\u001b[0m\u001b[0;34m)\u001b[0m\u001b[0;34m:\u001b[0m\u001b[0;34m\u001b[0m\u001b[0;34m\u001b[0m\u001b[0m\n\u001b[0;32m---> 77\u001b[0;31m         \u001b[0mself\u001b[0m\u001b[0;34m.\u001b[0m\u001b[0m__check_bandeja\u001b[0m\u001b[0;34m(\u001b[0m\u001b[0mnueva_bandeja\u001b[0m\u001b[0;34m)\u001b[0m\u001b[0;34m\u001b[0m\u001b[0;34m\u001b[0m\u001b[0m\n\u001b[0m\u001b[1;32m     78\u001b[0m         \u001b[0mself\u001b[0m\u001b[0;34m.\u001b[0m\u001b[0m_bandeja\u001b[0m \u001b[0;34m=\u001b[0m \u001b[0mnueva_bandeja\u001b[0m\u001b[0;34m\u001b[0m\u001b[0;34m\u001b[0m\u001b[0m\n\u001b[1;32m     79\u001b[0m \u001b[0;34m\u001b[0m\u001b[0m\n",
      "\u001b[0;32m<ipython-input-97-daae716e72fe>\u001b[0m in \u001b[0;36m__check_bandeja\u001b[0;34m(self, bandeja)\u001b[0m\n\u001b[1;32m     56\u001b[0m \u001b[0;34m\u001b[0m\u001b[0m\n\u001b[1;32m     57\u001b[0m         \u001b[0;32mif\u001b[0m \u001b[0;32mnot\u001b[0m \u001b[0misinstance\u001b[0m\u001b[0;34m(\u001b[0m\u001b[0mbandeja\u001b[0m\u001b[0;34m,\u001b[0m \u001b[0mlist\u001b[0m\u001b[0;34m)\u001b[0m\u001b[0;34m:\u001b[0m\u001b[0;34m\u001b[0m\u001b[0;34m\u001b[0m\u001b[0m\n\u001b[0;32m---> 58\u001b[0;31m             \u001b[0;32mraise\u001b[0m \u001b[0mValueError\u001b[0m\u001b[0;34m(\u001b[0m\u001b[0;34m\"La bandeja debe ser una lista de frutas\"\u001b[0m\u001b[0;34m)\u001b[0m\u001b[0;34m\u001b[0m\u001b[0;34m\u001b[0m\u001b[0m\n\u001b[0m\u001b[1;32m     59\u001b[0m \u001b[0;34m\u001b[0m\u001b[0m\n\u001b[1;32m     60\u001b[0m         \u001b[0;32mif\u001b[0m \u001b[0mlen\u001b[0m\u001b[0;34m(\u001b[0m\u001b[0mbandeja\u001b[0m\u001b[0;34m)\u001b[0m \u001b[0;34m>\u001b[0m \u001b[0;36m3\u001b[0m\u001b[0;34m:\u001b[0m\u001b[0;34m\u001b[0m\u001b[0;34m\u001b[0m\u001b[0m\n",
      "\u001b[0;31mValueError\u001b[0m: La bandeja debe ser una lista de frutas"
     ]
    }
   ],
   "source": [
    "jugera: Jugera = Jugera()\n",
    "\n",
    "# Testeando que al intentar agregar un elemento que no sea lista a la bandeja, arroje un error\n",
    "jugera.bandeja = \"uwu\""
   ]
  },
  {
   "cell_type": "code",
   "execution_count": 99,
   "id": "0055dbb6",
   "metadata": {},
   "outputs": [
    {
     "ename": "ValueError",
     "evalue": "La fruta no es un diccionario con atributos",
     "output_type": "error",
     "traceback": [
      "\u001b[0;31m---------------------------------------------------------------------------\u001b[0m",
      "\u001b[0;31mValueError\u001b[0m                                Traceback (most recent call last)",
      "\u001b[0;32m<ipython-input-99-e56cdc8ad2e0>\u001b[0m in \u001b[0;36m<module>\u001b[0;34m\u001b[0m\n\u001b[1;32m      1\u001b[0m \u001b[0;31m# Testeando que al agregar una lista de cosas que no son frutas, arroje un error\u001b[0m\u001b[0;34m\u001b[0m\u001b[0;34m\u001b[0m\u001b[0;34m\u001b[0m\u001b[0m\n\u001b[0;32m----> 2\u001b[0;31m \u001b[0mjugera\u001b[0m\u001b[0;34m.\u001b[0m\u001b[0mbandeja\u001b[0m \u001b[0;34m=\u001b[0m \u001b[0;34m[\u001b[0m\u001b[0;34m\"uwu\"\u001b[0m\u001b[0;34m,\u001b[0m \u001b[0;34m\"ewe\"\u001b[0m\u001b[0;34m]\u001b[0m\u001b[0;34m\u001b[0m\u001b[0;34m\u001b[0m\u001b[0m\n\u001b[0m",
      "\u001b[0;32m<ipython-input-97-daae716e72fe>\u001b[0m in \u001b[0;36mbandeja\u001b[0;34m(self, nueva_bandeja)\u001b[0m\n\u001b[1;32m     75\u001b[0m     \u001b[0;34m@\u001b[0m\u001b[0mbandeja\u001b[0m\u001b[0;34m.\u001b[0m\u001b[0msetter\u001b[0m\u001b[0;34m\u001b[0m\u001b[0;34m\u001b[0m\u001b[0m\n\u001b[1;32m     76\u001b[0m     \u001b[0;32mdef\u001b[0m \u001b[0mbandeja\u001b[0m\u001b[0;34m(\u001b[0m\u001b[0mself\u001b[0m\u001b[0;34m,\u001b[0m \u001b[0mnueva_bandeja\u001b[0m\u001b[0;34m)\u001b[0m\u001b[0;34m:\u001b[0m\u001b[0;34m\u001b[0m\u001b[0;34m\u001b[0m\u001b[0m\n\u001b[0;32m---> 77\u001b[0;31m         \u001b[0mself\u001b[0m\u001b[0;34m.\u001b[0m\u001b[0m__check_bandeja\u001b[0m\u001b[0;34m(\u001b[0m\u001b[0mnueva_bandeja\u001b[0m\u001b[0;34m)\u001b[0m\u001b[0;34m\u001b[0m\u001b[0;34m\u001b[0m\u001b[0m\n\u001b[0m\u001b[1;32m     78\u001b[0m         \u001b[0mself\u001b[0m\u001b[0;34m.\u001b[0m\u001b[0m_bandeja\u001b[0m \u001b[0;34m=\u001b[0m \u001b[0mnueva_bandeja\u001b[0m\u001b[0;34m\u001b[0m\u001b[0;34m\u001b[0m\u001b[0m\n\u001b[1;32m     79\u001b[0m \u001b[0;34m\u001b[0m\u001b[0m\n",
      "\u001b[0;32m<ipython-input-97-daae716e72fe>\u001b[0m in \u001b[0;36m__check_bandeja\u001b[0;34m(self, bandeja)\u001b[0m\n\u001b[1;32m     62\u001b[0m \u001b[0;34m\u001b[0m\u001b[0m\n\u001b[1;32m     63\u001b[0m         \u001b[0;32mfor\u001b[0m \u001b[0mfruta\u001b[0m \u001b[0;32min\u001b[0m \u001b[0mbandeja\u001b[0m\u001b[0;34m:\u001b[0m \u001b[0;31m# TODO: map no arroja error.\u001b[0m\u001b[0;34m\u001b[0m\u001b[0;34m\u001b[0m\u001b[0m\n\u001b[0;32m---> 64\u001b[0;31m             \u001b[0mself\u001b[0m\u001b[0;34m.\u001b[0m\u001b[0m__check_fruta\u001b[0m\u001b[0;34m(\u001b[0m\u001b[0mfruta\u001b[0m\u001b[0;34m)\u001b[0m\u001b[0;34m\u001b[0m\u001b[0;34m\u001b[0m\u001b[0m\n\u001b[0m\u001b[1;32m     65\u001b[0m \u001b[0;34m\u001b[0m\u001b[0m\n\u001b[1;32m     66\u001b[0m \u001b[0;34m\u001b[0m\u001b[0m\n",
      "\u001b[0;32m<ipython-input-97-daae716e72fe>\u001b[0m in \u001b[0;36m__check_fruta\u001b[0;34m(fruta)\u001b[0m\n\u001b[1;32m     47\u001b[0m         \u001b[0mkeys\u001b[0m\u001b[0;34m:\u001b[0m \u001b[0mList\u001b[0m\u001b[0;34m[\u001b[0m\u001b[0mstr\u001b[0m\u001b[0;34m]\u001b[0m \u001b[0;34m=\u001b[0m \u001b[0;34m[\u001b[0m\u001b[0;34m\"nombre\"\u001b[0m\u001b[0;34m,\u001b[0m \u001b[0;34m\"tipo\"\u001b[0m\u001b[0;34m,\u001b[0m \u001b[0;34m\"color\"\u001b[0m\u001b[0;34m,\u001b[0m \u001b[0;34m\"pepas\"\u001b[0m\u001b[0;34m]\u001b[0m\u001b[0;34m\u001b[0m\u001b[0;34m\u001b[0m\u001b[0m\n\u001b[1;32m     48\u001b[0m         \u001b[0;32mif\u001b[0m \u001b[0;32mnot\u001b[0m \u001b[0misinstance\u001b[0m\u001b[0;34m(\u001b[0m\u001b[0mfruta\u001b[0m\u001b[0;34m,\u001b[0m \u001b[0mdict\u001b[0m\u001b[0;34m)\u001b[0m\u001b[0;34m:\u001b[0m\u001b[0;34m\u001b[0m\u001b[0;34m\u001b[0m\u001b[0m\n\u001b[0;32m---> 49\u001b[0;31m             \u001b[0;32mraise\u001b[0m \u001b[0mValueError\u001b[0m\u001b[0;34m(\u001b[0m\u001b[0;34m\"La fruta no es un diccionario con atributos\"\u001b[0m\u001b[0;34m)\u001b[0m\u001b[0;34m\u001b[0m\u001b[0;34m\u001b[0m\u001b[0m\n\u001b[0m\u001b[1;32m     50\u001b[0m \u001b[0;34m\u001b[0m\u001b[0m\n\u001b[1;32m     51\u001b[0m         \u001b[0;32mif\u001b[0m \u001b[0mlist\u001b[0m\u001b[0;34m(\u001b[0m\u001b[0mfruta\u001b[0m\u001b[0;34m.\u001b[0m\u001b[0mkeys\u001b[0m\u001b[0;34m(\u001b[0m\u001b[0;34m)\u001b[0m\u001b[0;34m)\u001b[0m \u001b[0;34m!=\u001b[0m \u001b[0mkeys\u001b[0m\u001b[0;34m:\u001b[0m\u001b[0;34m\u001b[0m\u001b[0;34m\u001b[0m\u001b[0m\n",
      "\u001b[0;31mValueError\u001b[0m: La fruta no es un diccionario con atributos"
     ]
    }
   ],
   "source": [
    "# Testeando que al agregar una lista de cosas que no son frutas, arroje un error\n",
    "jugera.bandeja = [\"uwu\", \"ewe\"]"
   ]
  },
  {
   "cell_type": "code",
   "execution_count": 100,
   "id": "ce57bff3",
   "metadata": {},
   "outputs": [
    {
     "ename": "ValueError",
     "evalue": "La fruta no cuenta con las llaves requeridas: ['nombre', 'tipo', 'color', 'pepas']",
     "output_type": "error",
     "traceback": [
      "\u001b[0;31m---------------------------------------------------------------------------\u001b[0m",
      "\u001b[0;31mValueError\u001b[0m                                Traceback (most recent call last)",
      "\u001b[0;32m<ipython-input-100-3d0d6282c3ae>\u001b[0m in \u001b[0;36m<module>\u001b[0;34m\u001b[0m\n\u001b[1;32m      1\u001b[0m \u001b[0;31m# Testeando que al agregar una lista de objetos que no sean frutas, arroje un error\u001b[0m\u001b[0;34m\u001b[0m\u001b[0;34m\u001b[0m\u001b[0;34m\u001b[0m\u001b[0m\n\u001b[0;32m----> 2\u001b[0;31m \u001b[0mjugera\u001b[0m\u001b[0;34m.\u001b[0m\u001b[0mbandeja\u001b[0m \u001b[0;34m=\u001b[0m \u001b[0;34m[\u001b[0m\u001b[0;34m{\u001b[0m\u001b[0;34m\"awa\"\u001b[0m\u001b[0;34m:\u001b[0m \u001b[0;32mTrue\u001b[0m\u001b[0;34m}\u001b[0m\u001b[0;34m,\u001b[0m \u001b[0;34m{\u001b[0m\u001b[0;34m\"uwu\"\u001b[0m\u001b[0;34m:\u001b[0m \u001b[0;32mFalse\u001b[0m\u001b[0;34m}\u001b[0m\u001b[0;34m]\u001b[0m\u001b[0;34m\u001b[0m\u001b[0;34m\u001b[0m\u001b[0m\n\u001b[0m",
      "\u001b[0;32m<ipython-input-97-daae716e72fe>\u001b[0m in \u001b[0;36mbandeja\u001b[0;34m(self, nueva_bandeja)\u001b[0m\n\u001b[1;32m     75\u001b[0m     \u001b[0;34m@\u001b[0m\u001b[0mbandeja\u001b[0m\u001b[0;34m.\u001b[0m\u001b[0msetter\u001b[0m\u001b[0;34m\u001b[0m\u001b[0;34m\u001b[0m\u001b[0m\n\u001b[1;32m     76\u001b[0m     \u001b[0;32mdef\u001b[0m \u001b[0mbandeja\u001b[0m\u001b[0;34m(\u001b[0m\u001b[0mself\u001b[0m\u001b[0;34m,\u001b[0m \u001b[0mnueva_bandeja\u001b[0m\u001b[0;34m)\u001b[0m\u001b[0;34m:\u001b[0m\u001b[0;34m\u001b[0m\u001b[0;34m\u001b[0m\u001b[0m\n\u001b[0;32m---> 77\u001b[0;31m         \u001b[0mself\u001b[0m\u001b[0;34m.\u001b[0m\u001b[0m__check_bandeja\u001b[0m\u001b[0;34m(\u001b[0m\u001b[0mnueva_bandeja\u001b[0m\u001b[0;34m)\u001b[0m\u001b[0;34m\u001b[0m\u001b[0;34m\u001b[0m\u001b[0m\n\u001b[0m\u001b[1;32m     78\u001b[0m         \u001b[0mself\u001b[0m\u001b[0;34m.\u001b[0m\u001b[0m_bandeja\u001b[0m \u001b[0;34m=\u001b[0m \u001b[0mnueva_bandeja\u001b[0m\u001b[0;34m\u001b[0m\u001b[0;34m\u001b[0m\u001b[0m\n\u001b[1;32m     79\u001b[0m \u001b[0;34m\u001b[0m\u001b[0m\n",
      "\u001b[0;32m<ipython-input-97-daae716e72fe>\u001b[0m in \u001b[0;36m__check_bandeja\u001b[0;34m(self, bandeja)\u001b[0m\n\u001b[1;32m     62\u001b[0m \u001b[0;34m\u001b[0m\u001b[0m\n\u001b[1;32m     63\u001b[0m         \u001b[0;32mfor\u001b[0m \u001b[0mfruta\u001b[0m \u001b[0;32min\u001b[0m \u001b[0mbandeja\u001b[0m\u001b[0;34m:\u001b[0m \u001b[0;31m# TODO: map no arroja error.\u001b[0m\u001b[0;34m\u001b[0m\u001b[0;34m\u001b[0m\u001b[0m\n\u001b[0;32m---> 64\u001b[0;31m             \u001b[0mself\u001b[0m\u001b[0;34m.\u001b[0m\u001b[0m__check_fruta\u001b[0m\u001b[0;34m(\u001b[0m\u001b[0mfruta\u001b[0m\u001b[0;34m)\u001b[0m\u001b[0;34m\u001b[0m\u001b[0;34m\u001b[0m\u001b[0m\n\u001b[0m\u001b[1;32m     65\u001b[0m \u001b[0;34m\u001b[0m\u001b[0m\n\u001b[1;32m     66\u001b[0m \u001b[0;34m\u001b[0m\u001b[0m\n",
      "\u001b[0;32m<ipython-input-97-daae716e72fe>\u001b[0m in \u001b[0;36m__check_fruta\u001b[0;34m(fruta)\u001b[0m\n\u001b[1;32m     50\u001b[0m \u001b[0;34m\u001b[0m\u001b[0m\n\u001b[1;32m     51\u001b[0m         \u001b[0;32mif\u001b[0m \u001b[0mlist\u001b[0m\u001b[0;34m(\u001b[0m\u001b[0mfruta\u001b[0m\u001b[0;34m.\u001b[0m\u001b[0mkeys\u001b[0m\u001b[0;34m(\u001b[0m\u001b[0;34m)\u001b[0m\u001b[0;34m)\u001b[0m \u001b[0;34m!=\u001b[0m \u001b[0mkeys\u001b[0m\u001b[0;34m:\u001b[0m\u001b[0;34m\u001b[0m\u001b[0;34m\u001b[0m\u001b[0m\n\u001b[0;32m---> 52\u001b[0;31m             \u001b[0;32mraise\u001b[0m \u001b[0mValueError\u001b[0m\u001b[0;34m(\u001b[0m\u001b[0;34mf\"La fruta no cuenta con las llaves requeridas: {keys}\"\u001b[0m\u001b[0;34m)\u001b[0m\u001b[0;34m\u001b[0m\u001b[0;34m\u001b[0m\u001b[0m\n\u001b[0m\u001b[1;32m     53\u001b[0m \u001b[0;34m\u001b[0m\u001b[0m\n\u001b[1;32m     54\u001b[0m     \u001b[0;32mdef\u001b[0m \u001b[0m__check_bandeja\u001b[0m\u001b[0;34m(\u001b[0m\u001b[0mself\u001b[0m\u001b[0;34m,\u001b[0m \u001b[0mbandeja\u001b[0m\u001b[0;34m:\u001b[0m \u001b[0mList\u001b[0m\u001b[0;34m[\u001b[0m\u001b[0mdict\u001b[0m\u001b[0;34m]\u001b[0m\u001b[0;34m)\u001b[0m \u001b[0;34m->\u001b[0m \u001b[0;32mNone\u001b[0m\u001b[0;34m:\u001b[0m\u001b[0;34m\u001b[0m\u001b[0;34m\u001b[0m\u001b[0m\n",
      "\u001b[0;31mValueError\u001b[0m: La fruta no cuenta con las llaves requeridas: ['nombre', 'tipo', 'color', 'pepas']"
     ]
    }
   ],
   "source": [
    "# Testeando que al agregar una lista de objetos que no sean frutas, arroje un error\n",
    "jugera.bandeja = [{\"awa\": True}, {\"uwu\": False}]"
   ]
  },
  {
   "cell_type": "code",
   "execution_count": 101,
   "id": "e28a4333",
   "metadata": {},
   "outputs": [
    {
     "ename": "MaxSizeTrayException",
     "evalue": "4 > 3 -> Error ❌: La bandeja supera el tamaño máximo especificado",
     "output_type": "error",
     "traceback": [
      "\u001b[0;31m---------------------------------------------------------------------------\u001b[0m",
      "\u001b[0;31mMaxSizeTrayException\u001b[0m                      Traceback (most recent call last)",
      "\u001b[0;32m<ipython-input-101-44d5b64610d5>\u001b[0m in \u001b[0;36m<module>\u001b[0;34m\u001b[0m\n\u001b[1;32m      1\u001b[0m \u001b[0;31m# Testeando que al agregar una lista de frutas de más de 3, arroje un error\u001b[0m\u001b[0;34m\u001b[0m\u001b[0;34m\u001b[0m\u001b[0;34m\u001b[0m\u001b[0m\n\u001b[0;32m----> 2\u001b[0;31m \u001b[0mjugera\u001b[0m\u001b[0;34m.\u001b[0m\u001b[0mbandeja\u001b[0m \u001b[0;34m=\u001b[0m \u001b[0;34m[\u001b[0m\u001b[0mplatano\u001b[0m\u001b[0;34m,\u001b[0m \u001b[0mpina\u001b[0m\u001b[0;34m,\u001b[0m \u001b[0mnaranja\u001b[0m\u001b[0;34m,\u001b[0m \u001b[0mframbuesa\u001b[0m\u001b[0;34m]\u001b[0m\u001b[0;34m\u001b[0m\u001b[0;34m\u001b[0m\u001b[0m\n\u001b[0m",
      "\u001b[0;32m<ipython-input-97-daae716e72fe>\u001b[0m in \u001b[0;36mbandeja\u001b[0;34m(self, nueva_bandeja)\u001b[0m\n\u001b[1;32m     75\u001b[0m     \u001b[0;34m@\u001b[0m\u001b[0mbandeja\u001b[0m\u001b[0;34m.\u001b[0m\u001b[0msetter\u001b[0m\u001b[0;34m\u001b[0m\u001b[0;34m\u001b[0m\u001b[0m\n\u001b[1;32m     76\u001b[0m     \u001b[0;32mdef\u001b[0m \u001b[0mbandeja\u001b[0m\u001b[0;34m(\u001b[0m\u001b[0mself\u001b[0m\u001b[0;34m,\u001b[0m \u001b[0mnueva_bandeja\u001b[0m\u001b[0;34m)\u001b[0m\u001b[0;34m:\u001b[0m\u001b[0;34m\u001b[0m\u001b[0;34m\u001b[0m\u001b[0m\n\u001b[0;32m---> 77\u001b[0;31m         \u001b[0mself\u001b[0m\u001b[0;34m.\u001b[0m\u001b[0m__check_bandeja\u001b[0m\u001b[0;34m(\u001b[0m\u001b[0mnueva_bandeja\u001b[0m\u001b[0;34m)\u001b[0m\u001b[0;34m\u001b[0m\u001b[0;34m\u001b[0m\u001b[0m\n\u001b[0m\u001b[1;32m     78\u001b[0m         \u001b[0mself\u001b[0m\u001b[0;34m.\u001b[0m\u001b[0m_bandeja\u001b[0m \u001b[0;34m=\u001b[0m \u001b[0mnueva_bandeja\u001b[0m\u001b[0;34m\u001b[0m\u001b[0;34m\u001b[0m\u001b[0m\n\u001b[1;32m     79\u001b[0m \u001b[0;34m\u001b[0m\u001b[0m\n",
      "\u001b[0;32m<ipython-input-97-daae716e72fe>\u001b[0m in \u001b[0;36m__check_bandeja\u001b[0;34m(self, bandeja)\u001b[0m\n\u001b[1;32m     59\u001b[0m \u001b[0;34m\u001b[0m\u001b[0m\n\u001b[1;32m     60\u001b[0m         \u001b[0;32mif\u001b[0m \u001b[0mlen\u001b[0m\u001b[0;34m(\u001b[0m\u001b[0mbandeja\u001b[0m\u001b[0;34m)\u001b[0m \u001b[0;34m>\u001b[0m \u001b[0;36m3\u001b[0m\u001b[0;34m:\u001b[0m\u001b[0;34m\u001b[0m\u001b[0;34m\u001b[0m\u001b[0m\n\u001b[0;32m---> 61\u001b[0;31m             \u001b[0;32mraise\u001b[0m \u001b[0mMaxSizeTrayException\u001b[0m\u001b[0;34m(\u001b[0m\u001b[0mlen\u001b[0m\u001b[0;34m(\u001b[0m\u001b[0mbandeja\u001b[0m\u001b[0;34m)\u001b[0m\u001b[0;34m,\u001b[0m \u001b[0mself\u001b[0m\u001b[0;34m.\u001b[0m\u001b[0m_max_size\u001b[0m\u001b[0;34m)\u001b[0m\u001b[0;34m\u001b[0m\u001b[0;34m\u001b[0m\u001b[0m\n\u001b[0m\u001b[1;32m     62\u001b[0m \u001b[0;34m\u001b[0m\u001b[0m\n\u001b[1;32m     63\u001b[0m         \u001b[0;32mfor\u001b[0m \u001b[0mfruta\u001b[0m \u001b[0;32min\u001b[0m \u001b[0mbandeja\u001b[0m\u001b[0;34m:\u001b[0m \u001b[0;31m# TODO: map no arroja error.\u001b[0m\u001b[0;34m\u001b[0m\u001b[0;34m\u001b[0m\u001b[0m\n",
      "\u001b[0;31mMaxSizeTrayException\u001b[0m: 4 > 3 -> Error ❌: La bandeja supera el tamaño máximo especificado"
     ]
    }
   ],
   "source": [
    "# Testeando que al agregar una lista de frutas de más de 3, arroje un error\n",
    "jugera.bandeja = [platano, pina, naranja, frambuesa]"
   ]
  },
  {
   "cell_type": "code",
   "execution_count": 102,
   "id": "e40483bc",
   "metadata": {},
   "outputs": [
    {
     "name": "stdout",
     "output_type": "stream",
     "text": [
      "Bandeja vacía\n"
     ]
    }
   ],
   "source": [
    "# Testeando que al listar ingredientes de una bandeja vacía, printee 'Bandeja vacía'\n",
    "jugera.listar_ingredientes()"
   ]
  },
  {
   "cell_type": "code",
   "execution_count": 103,
   "id": "7d76ee79",
   "metadata": {},
   "outputs": [
    {
     "ename": "NotPluggedInException",
     "evalue": "Alerta ⚠️: El electrodoméstico no está enchufado",
     "output_type": "error",
     "traceback": [
      "\u001b[0;31m---------------------------------------------------------------------------\u001b[0m",
      "\u001b[0;31mNotPluggedInException\u001b[0m                     Traceback (most recent call last)",
      "\u001b[0;32m<ipython-input-103-6878357efdc2>\u001b[0m in \u001b[0;36m<module>\u001b[0;34m\u001b[0m\n\u001b[1;32m      1\u001b[0m \u001b[0;31m# Testeando que al intentar preparar un jugo, arroje un error por no estar enchufado\u001b[0m\u001b[0;34m\u001b[0m\u001b[0;34m\u001b[0m\u001b[0;34m\u001b[0m\u001b[0m\n\u001b[0;32m----> 2\u001b[0;31m \u001b[0mjugera\u001b[0m\u001b[0;34m.\u001b[0m\u001b[0mpreparar_jugo\u001b[0m\u001b[0;34m(\u001b[0m\u001b[0;34m)\u001b[0m\u001b[0;34m\u001b[0m\u001b[0;34m\u001b[0m\u001b[0m\n\u001b[0m",
      "\u001b[0;32m<ipython-input-97-daae716e72fe>\u001b[0m in \u001b[0;36mpreparar_jugo\u001b[0;34m(self)\u001b[0m\n\u001b[1;32m    104\u001b[0m         \"\"\"\n\u001b[1;32m    105\u001b[0m \u001b[0;34m\u001b[0m\u001b[0m\n\u001b[0;32m--> 106\u001b[0;31m         \u001b[0mself\u001b[0m\u001b[0;34m.\u001b[0m\u001b[0mesta_enchufado\u001b[0m\u001b[0;34m(\u001b[0m\u001b[0;34m)\u001b[0m\u001b[0;34m\u001b[0m\u001b[0;34m\u001b[0m\u001b[0m\n\u001b[0m\u001b[1;32m    107\u001b[0m         \u001b[0;32mif\u001b[0m \u001b[0;32mnot\u001b[0m \u001b[0mself\u001b[0m\u001b[0;34m.\u001b[0m\u001b[0mbandeja\u001b[0m\u001b[0;34m:\u001b[0m\u001b[0;34m\u001b[0m\u001b[0;34m\u001b[0m\u001b[0m\n\u001b[1;32m    108\u001b[0m             \u001b[0;32mraise\u001b[0m \u001b[0mEmptyTrayException\u001b[0m\u001b[0;34m(\u001b[0m\u001b[0;34m)\u001b[0m\u001b[0;34m\u001b[0m\u001b[0;34m\u001b[0m\u001b[0m\n",
      "\u001b[0;32m<ipython-input-29-725253b0c956>\u001b[0m in \u001b[0;36mesta_enchufado\u001b[0;34m(self)\u001b[0m\n\u001b[1;32m     21\u001b[0m             en caso contrario, arrojará un NotPluggedInException \"\"\"\n\u001b[1;32m     22\u001b[0m         \u001b[0;32mif\u001b[0m \u001b[0;32mnot\u001b[0m \u001b[0mself\u001b[0m\u001b[0;34m.\u001b[0m\u001b[0menchufado\u001b[0m\u001b[0;34m:\u001b[0m\u001b[0;34m\u001b[0m\u001b[0;34m\u001b[0m\u001b[0m\n\u001b[0;32m---> 23\u001b[0;31m             \u001b[0;32mraise\u001b[0m \u001b[0mNotPluggedInException\u001b[0m\u001b[0;34m(\u001b[0m\u001b[0;34m)\u001b[0m\u001b[0;34m\u001b[0m\u001b[0;34m\u001b[0m\u001b[0m\n\u001b[0m\u001b[1;32m     24\u001b[0m         \u001b[0;32mreturn\u001b[0m \u001b[0;32mTrue\u001b[0m\u001b[0;34m\u001b[0m\u001b[0;34m\u001b[0m\u001b[0m\n\u001b[1;32m     25\u001b[0m \u001b[0;34m\u001b[0m\u001b[0m\n",
      "\u001b[0;31mNotPluggedInException\u001b[0m: Alerta ⚠️: El electrodoméstico no está enchufado"
     ]
    }
   ],
   "source": [
    "# Testeando que al intentar preparar un jugo, arroje un error por no estar enchufado\n",
    "jugera.preparar_jugo()"
   ]
  },
  {
   "cell_type": "code",
   "execution_count": 104,
   "id": "c94554d0",
   "metadata": {},
   "outputs": [
    {
     "ename": "EmptyTrayException",
     "evalue": "Error ❌: La bandeja no tiene ingredientes.",
     "output_type": "error",
     "traceback": [
      "\u001b[0;31m---------------------------------------------------------------------------\u001b[0m",
      "\u001b[0;31mEmptyTrayException\u001b[0m                        Traceback (most recent call last)",
      "\u001b[0;32m<ipython-input-104-e9ebb2cd7632>\u001b[0m in \u001b[0;36m<module>\u001b[0;34m\u001b[0m\n\u001b[1;32m      1\u001b[0m \u001b[0;31m# Testeando que al enchufar la juguera y preparar un jugo con la bandeja vacía, arroje un error\u001b[0m\u001b[0;34m\u001b[0m\u001b[0;34m\u001b[0m\u001b[0;34m\u001b[0m\u001b[0m\n\u001b[1;32m      2\u001b[0m \u001b[0mjugera\u001b[0m\u001b[0;34m.\u001b[0m\u001b[0menchufar\u001b[0m\u001b[0;34m(\u001b[0m\u001b[0;34m)\u001b[0m\u001b[0;34m\u001b[0m\u001b[0;34m\u001b[0m\u001b[0m\n\u001b[0;32m----> 3\u001b[0;31m \u001b[0mjugera\u001b[0m\u001b[0;34m.\u001b[0m\u001b[0mpreparar_jugo\u001b[0m\u001b[0;34m(\u001b[0m\u001b[0;34m)\u001b[0m\u001b[0;34m\u001b[0m\u001b[0;34m\u001b[0m\u001b[0m\n\u001b[0m",
      "\u001b[0;32m<ipython-input-97-daae716e72fe>\u001b[0m in \u001b[0;36mpreparar_jugo\u001b[0;34m(self)\u001b[0m\n\u001b[1;32m    106\u001b[0m         \u001b[0mself\u001b[0m\u001b[0;34m.\u001b[0m\u001b[0mesta_enchufado\u001b[0m\u001b[0;34m(\u001b[0m\u001b[0;34m)\u001b[0m\u001b[0;34m\u001b[0m\u001b[0;34m\u001b[0m\u001b[0m\n\u001b[1;32m    107\u001b[0m         \u001b[0;32mif\u001b[0m \u001b[0;32mnot\u001b[0m \u001b[0mself\u001b[0m\u001b[0;34m.\u001b[0m\u001b[0mbandeja\u001b[0m\u001b[0;34m:\u001b[0m\u001b[0;34m\u001b[0m\u001b[0;34m\u001b[0m\u001b[0m\n\u001b[0;32m--> 108\u001b[0;31m             \u001b[0;32mraise\u001b[0m \u001b[0mEmptyTrayException\u001b[0m\u001b[0;34m(\u001b[0m\u001b[0;34m)\u001b[0m\u001b[0;34m\u001b[0m\u001b[0;34m\u001b[0m\u001b[0m\n\u001b[0m\u001b[1;32m    109\u001b[0m \u001b[0;34m\u001b[0m\u001b[0m\n\u001b[1;32m    110\u001b[0m         \u001b[0;32mif\u001b[0m \u001b[0mfiltrar_por_pepa\u001b[0m\u001b[0;34m(\u001b[0m\u001b[0mself\u001b[0m\u001b[0;34m.\u001b[0m\u001b[0mbandeja\u001b[0m\u001b[0;34m,\u001b[0m \u001b[0;32mTrue\u001b[0m\u001b[0;34m)\u001b[0m\u001b[0;34m:\u001b[0m\u001b[0;34m\u001b[0m\u001b[0;34m\u001b[0m\u001b[0m\n",
      "\u001b[0;31mEmptyTrayException\u001b[0m: Error ❌: La bandeja no tiene ingredientes."
     ]
    }
   ],
   "source": [
    "# Testeando que al enchufar la juguera y preparar un jugo con la bandeja vacía, arroje un error\n",
    "jugera.enchufar()\n",
    "jugera.preparar_jugo()"
   ]
  },
  {
   "cell_type": "code",
   "execution_count": 105,
   "id": "62f848ce",
   "metadata": {},
   "outputs": [
    {
     "name": "stdout",
     "output_type": "stream",
     "text": [
      "Ingredientes en la bandeja: piña naranja frambuesa\n"
     ]
    }
   ],
   "source": [
    "# Testeando que al agregar frutas, la bandeja se actualice\n",
    "# Redefinimos jugera para que la celda siempre se pueda ejecutar y comprobar \n",
    "\n",
    "jugera: Jugera = Jugera()\n",
    "jugera.agregar_ingrediente(pina)\n",
    "\n",
    "assert len(jugera.bandeja) == 1\n",
    "assert pina in jugera.bandeja\n",
    "\n",
    "jugera.agregar_ingrediente(naranja)\n",
    "\n",
    "assert len(jugera.bandeja) == 2\n",
    "assert pina in jugera.bandeja\n",
    "assert naranja in jugera.bandeja\n",
    "\n",
    "jugera.agregar_ingrediente(frambuesa)\n",
    "\n",
    "assert len(jugera.bandeja) == 3\n",
    "assert pina in jugera.bandeja\n",
    "assert naranja in jugera.bandeja\n",
    "assert frambuesa in jugera.bandeja\n",
    "\n",
    "jugera.listar_ingredientes()"
   ]
  },
  {
   "cell_type": "code",
   "execution_count": 106,
   "id": "121314f3",
   "metadata": {},
   "outputs": [
    {
     "ename": "MaxSizeTrayException",
     "evalue": "4 > 3 -> Error ❌: La bandeja supera el tamaño máximo especificado",
     "output_type": "error",
     "traceback": [
      "\u001b[0;31m---------------------------------------------------------------------------\u001b[0m",
      "\u001b[0;31mMaxSizeTrayException\u001b[0m                      Traceback (most recent call last)",
      "\u001b[0;32m<ipython-input-106-036e91c5d608>\u001b[0m in \u001b[0;36m<module>\u001b[0;34m\u001b[0m\n\u001b[1;32m      3\u001b[0m \u001b[0mjugera\u001b[0m\u001b[0;34m.\u001b[0m\u001b[0mbandeja\u001b[0m \u001b[0;34m=\u001b[0m \u001b[0;34m[\u001b[0m\u001b[0mpina\u001b[0m\u001b[0;34m,\u001b[0m \u001b[0mnaranja\u001b[0m\u001b[0;34m,\u001b[0m \u001b[0mframbuesa\u001b[0m\u001b[0;34m]\u001b[0m\u001b[0;34m\u001b[0m\u001b[0;34m\u001b[0m\u001b[0m\n\u001b[1;32m      4\u001b[0m \u001b[0;34m\u001b[0m\u001b[0m\n\u001b[0;32m----> 5\u001b[0;31m \u001b[0mjugera\u001b[0m\u001b[0;34m.\u001b[0m\u001b[0magregar_ingrediente\u001b[0m\u001b[0;34m(\u001b[0m\u001b[0mlimon\u001b[0m\u001b[0;34m)\u001b[0m\u001b[0;34m\u001b[0m\u001b[0;34m\u001b[0m\u001b[0m\n\u001b[0m",
      "\u001b[0;32m<ipython-input-97-daae716e72fe>\u001b[0m in \u001b[0;36magregar_ingrediente\u001b[0;34m(self, nueva_fruta)\u001b[0m\n\u001b[1;32m     85\u001b[0m \u001b[0;34m\u001b[0m\u001b[0m\n\u001b[1;32m     86\u001b[0m         \u001b[0;32mif\u001b[0m \u001b[0mlen\u001b[0m\u001b[0;34m(\u001b[0m\u001b[0mself\u001b[0m\u001b[0;34m.\u001b[0m\u001b[0m_bandeja\u001b[0m\u001b[0;34m)\u001b[0m \u001b[0;34m==\u001b[0m \u001b[0;36m3\u001b[0m\u001b[0;34m:\u001b[0m\u001b[0;34m\u001b[0m\u001b[0;34m\u001b[0m\u001b[0m\n\u001b[0;32m---> 87\u001b[0;31m             \u001b[0;32mraise\u001b[0m \u001b[0mMaxSizeTrayException\u001b[0m\u001b[0;34m(\u001b[0m\u001b[0;36m4\u001b[0m\u001b[0;34m,\u001b[0m \u001b[0;36m3\u001b[0m\u001b[0;34m)\u001b[0m \u001b[0;31m# ya que con la nueva fruta, serían 4.\u001b[0m\u001b[0;34m\u001b[0m\u001b[0;34m\u001b[0m\u001b[0m\n\u001b[0m\u001b[1;32m     88\u001b[0m \u001b[0;34m\u001b[0m\u001b[0m\n\u001b[1;32m     89\u001b[0m         \u001b[0mself\u001b[0m\u001b[0;34m.\u001b[0m\u001b[0m__check_fruta\u001b[0m\u001b[0;34m(\u001b[0m\u001b[0mnueva_fruta\u001b[0m\u001b[0;34m)\u001b[0m\u001b[0;34m\u001b[0m\u001b[0;34m\u001b[0m\u001b[0m\n",
      "\u001b[0;31mMaxSizeTrayException\u001b[0m: 4 > 3 -> Error ❌: La bandeja supera el tamaño máximo especificado"
     ]
    }
   ],
   "source": [
    "# Testeamos que al agregar una fruta más, arroje un error\n",
    "jugera: Jugera = Jugera()\n",
    "jugera.bandeja = [pina, naranja, frambuesa]\n",
    "\n",
    "jugera.agregar_ingrediente(limon)"
   ]
  },
  {
   "cell_type": "code",
   "execution_count": 111,
   "id": "bba8cdd2",
   "metadata": {},
   "outputs": [
    {
     "name": "stdout",
     "output_type": "stream",
     "text": [
      "Alerta ⚠️: El jugo puede contener restos de pepas.\n",
      "Jugo de piña, naranja, frambuesa listo. 🏖️🥤 Que lo disfrutes!!! 🥤🏖️.\n"
     ]
    }
   ],
   "source": [
    "# Testeamos que la jugera prepare bien los jugos, vaciando la bandeja.\n",
    "jugera: Jugera = Jugera()\n",
    "jugera.bandeja = [pina, naranja, frambuesa]\n",
    "\n",
    "jugera.enchufar()\n",
    "message = jugera.preparar_jugo()\n",
    "assert not jugera.bandeja\n",
    "assert message == \"Jugo de piña, naranja, frambuesa listo. 🏖️🥤 Que lo disfrutes!!! 🥤🏖️.\"\n",
    "print(message)"
   ]
  }
 ],
 "metadata": {
  "colab": {
   "collapsed_sections": [],
   "name": "Lab1_enunciado.ipynb",
   "provenance": [],
   "toc_visible": true
  },
  "kernelspec": {
   "display_name": "Python 3",
   "language": "python",
   "name": "python3"
  },
  "language_info": {
   "codemirror_mode": {
    "name": "ipython",
    "version": 3
   },
   "file_extension": ".py",
   "mimetype": "text/x-python",
   "name": "python",
   "nbconvert_exporter": "python",
   "pygments_lexer": "ipython3",
   "version": "3.8.10"
  }
 },
 "nbformat": 4,
 "nbformat_minor": 5
}
